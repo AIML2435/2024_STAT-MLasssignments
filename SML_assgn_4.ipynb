{
  "nbformat": 4,
  "nbformat_minor": 0,
  "metadata": {
    "colab": {
      "provenance": [],
      "include_colab_link": true
    },
    "kernelspec": {
      "name": "python3",
      "display_name": "Python 3"
    },
    "language_info": {
      "name": "python"
    }
  },
  "cells": [
    {
      "cell_type": "markdown",
      "metadata": {
        "id": "view-in-github",
        "colab_type": "text"
      },
      "source": [
        "<a href=\"https://colab.research.google.com/github/AIML2435/2435_STAT-MLasssignments/blob/main/SML_assgn_4.ipynb\" target=\"_parent\"><img src=\"https://colab.research.google.com/assets/colab-badge.svg\" alt=\"Open In Colab\"/></a>"
      ]
    },
    {
      "cell_type": "markdown",
      "source": [
        "Question1 :\n",
        "From the above data:\n",
        "\n",
        "1.Read the data with pandas and find features and target variables\n",
        "2.Normalize the data with min-max scaling\n",
        "3.Split the data into train and test."
      ],
      "metadata": {
        "id": "mli7beVVZjZX"
      }
    },
    {
      "cell_type": "code",
      "source": [
        "import numpy as np\n",
        "import pandas as pd\n",
        "import matplotlib.pyplot as plt\n",
        "d=pd.read_csv('/content/train.csv')\n",
        "print(d)"
      ],
      "metadata": {
        "colab": {
          "base_uri": "https://localhost:8080/"
        },
        "id": "FppQ0_pSZtex",
        "outputId": "e1ac1e1e-69f1-4dc8-d9ab-9037ccb77238"
      },
      "execution_count": null,
      "outputs": [
        {
          "output_type": "stream",
          "name": "stdout",
          "text": [
            "      battery_power  blue  clock_speed  dual_sim  fc  four_g  int_memory  \\\n",
            "0               842     0          2.2         0   1       0           7   \n",
            "1              1021     1          0.5         1   0       1          53   \n",
            "2               563     1          0.5         1   2       1          41   \n",
            "3               615     1          2.5         0   0       0          10   \n",
            "4              1821     1          1.2         0  13       1          44   \n",
            "...             ...   ...          ...       ...  ..     ...         ...   \n",
            "1995            794     1          0.5         1   0       1           2   \n",
            "1996           1965     1          2.6         1   0       0          39   \n",
            "1997           1911     0          0.9         1   1       1          36   \n",
            "1998           1512     0          0.9         0   4       1          46   \n",
            "1999            510     1          2.0         1   5       1          45   \n",
            "\n",
            "      m_dep  mobile_wt  n_cores  ...  px_height  px_width   ram  sc_h  sc_w  \\\n",
            "0       0.6        188        2  ...         20       756  2549     9     7   \n",
            "1       0.7        136        3  ...        905      1988  2631    17     3   \n",
            "2       0.9        145        5  ...       1263      1716  2603    11     2   \n",
            "3       0.8        131        6  ...       1216      1786  2769    16     8   \n",
            "4       0.6        141        2  ...       1208      1212  1411     8     2   \n",
            "...     ...        ...      ...  ...        ...       ...   ...   ...   ...   \n",
            "1995    0.8        106        6  ...       1222      1890   668    13     4   \n",
            "1996    0.2        187        4  ...        915      1965  2032    11    10   \n",
            "1997    0.7        108        8  ...        868      1632  3057     9     1   \n",
            "1998    0.1        145        5  ...        336       670   869    18    10   \n",
            "1999    0.9        168        6  ...        483       754  3919    19     4   \n",
            "\n",
            "      talk_time  three_g  touch_screen  wifi  price_range  \n",
            "0            19        0             0     1            1  \n",
            "1             7        1             1     0            2  \n",
            "2             9        1             1     0            2  \n",
            "3            11        1             0     0            2  \n",
            "4            15        1             1     0            1  \n",
            "...         ...      ...           ...   ...          ...  \n",
            "1995         19        1             1     0            0  \n",
            "1996         16        1             1     1            2  \n",
            "1997          5        1             1     0            3  \n",
            "1998         19        1             1     1            0  \n",
            "1999          2        1             1     1            3  \n",
            "\n",
            "[2000 rows x 21 columns]\n"
          ]
        }
      ]
    },
    {
      "cell_type": "code",
      "source": [
        "y=d['price_range']\n",
        "print(y)"
      ],
      "metadata": {
        "id": "IKubzlTTZxIE",
        "colab": {
          "base_uri": "https://localhost:8080/"
        },
        "outputId": "52a887e8-d7ba-493d-e90b-883e60e3825b"
      },
      "execution_count": null,
      "outputs": [
        {
          "output_type": "stream",
          "name": "stdout",
          "text": [
            "0       1\n",
            "1       2\n",
            "2       2\n",
            "3       2\n",
            "4       1\n",
            "       ..\n",
            "1995    0\n",
            "1996    2\n",
            "1997    3\n",
            "1998    0\n",
            "1999    3\n",
            "Name: price_range, Length: 2000, dtype: int64\n"
          ]
        }
      ]
    },
    {
      "cell_type": "code",
      "source": [
        "x=d.drop('price_range',axis=1)\n",
        "print(x)"
      ],
      "metadata": {
        "colab": {
          "base_uri": "https://localhost:8080/"
        },
        "id": "QciCTYwub9iV",
        "outputId": "6e167804-d162-487d-c104-3a643c6081a5"
      },
      "execution_count": null,
      "outputs": [
        {
          "output_type": "stream",
          "name": "stdout",
          "text": [
            "      battery_power  blue  clock_speed  dual_sim  fc  four_g  int_memory  \\\n",
            "0               842     0          2.2         0   1       0           7   \n",
            "1              1021     1          0.5         1   0       1          53   \n",
            "2               563     1          0.5         1   2       1          41   \n",
            "3               615     1          2.5         0   0       0          10   \n",
            "4              1821     1          1.2         0  13       1          44   \n",
            "...             ...   ...          ...       ...  ..     ...         ...   \n",
            "1995            794     1          0.5         1   0       1           2   \n",
            "1996           1965     1          2.6         1   0       0          39   \n",
            "1997           1911     0          0.9         1   1       1          36   \n",
            "1998           1512     0          0.9         0   4       1          46   \n",
            "1999            510     1          2.0         1   5       1          45   \n",
            "\n",
            "      m_dep  mobile_wt  n_cores  pc  px_height  px_width   ram  sc_h  sc_w  \\\n",
            "0       0.6        188        2   2         20       756  2549     9     7   \n",
            "1       0.7        136        3   6        905      1988  2631    17     3   \n",
            "2       0.9        145        5   6       1263      1716  2603    11     2   \n",
            "3       0.8        131        6   9       1216      1786  2769    16     8   \n",
            "4       0.6        141        2  14       1208      1212  1411     8     2   \n",
            "...     ...        ...      ...  ..        ...       ...   ...   ...   ...   \n",
            "1995    0.8        106        6  14       1222      1890   668    13     4   \n",
            "1996    0.2        187        4   3        915      1965  2032    11    10   \n",
            "1997    0.7        108        8   3        868      1632  3057     9     1   \n",
            "1998    0.1        145        5   5        336       670   869    18    10   \n",
            "1999    0.9        168        6  16        483       754  3919    19     4   \n",
            "\n",
            "      talk_time  three_g  touch_screen  wifi  \n",
            "0            19        0             0     1  \n",
            "1             7        1             1     0  \n",
            "2             9        1             1     0  \n",
            "3            11        1             0     0  \n",
            "4            15        1             1     0  \n",
            "...         ...      ...           ...   ...  \n",
            "1995         19        1             1     0  \n",
            "1996         16        1             1     1  \n",
            "1997          5        1             1     0  \n",
            "1998         19        1             1     1  \n",
            "1999          2        1             1     1  \n",
            "\n",
            "[2000 rows x 20 columns]\n"
          ]
        }
      ]
    },
    {
      "cell_type": "code",
      "source": [
        "df=d-d.min()/(d.max()-d.min())\n",
        "print(df)"
      ],
      "metadata": {
        "colab": {
          "base_uri": "https://localhost:8080/"
        },
        "id": "LZ67hD95dxfk",
        "outputId": "f31f6b0a-3293-4850-8da7-dd03ab21d19a"
      },
      "execution_count": null,
      "outputs": [
        {
          "output_type": "stream",
          "name": "stdout",
          "text": [
            "      battery_power  blue  clock_speed  dual_sim    fc  four_g  int_memory  \\\n",
            "0        841.665331   0.0          2.0       0.0   1.0     0.0    6.967742   \n",
            "1       1020.665331   1.0          0.3       1.0   0.0     1.0   52.967742   \n",
            "2        562.665331   1.0          0.3       1.0   2.0     1.0   40.967742   \n",
            "3        614.665331   1.0          2.3       0.0   0.0     0.0    9.967742   \n",
            "4       1820.665331   1.0          1.0       0.0  13.0     1.0   43.967742   \n",
            "...             ...   ...          ...       ...   ...     ...         ...   \n",
            "1995     793.665331   1.0          0.3       1.0   0.0     1.0    1.967742   \n",
            "1996    1964.665331   1.0          2.4       1.0   0.0     0.0   38.967742   \n",
            "1997    1910.665331   0.0          0.7       1.0   1.0     1.0   35.967742   \n",
            "1998    1511.665331   0.0          0.7       0.0   4.0     1.0   45.967742   \n",
            "1999     509.665331   1.0          1.8       1.0   5.0     1.0   44.967742   \n",
            "\n",
            "         m_dep   mobile_wt   n_cores  ...  px_height     px_width  \\\n",
            "0     0.488889  187.333333  1.857143  ...       20.0   755.666222   \n",
            "1     0.588889  135.333333  2.857143  ...      905.0  1987.666222   \n",
            "2     0.788889  144.333333  4.857143  ...     1263.0  1715.666222   \n",
            "3     0.688889  130.333333  5.857143  ...     1216.0  1785.666222   \n",
            "4     0.488889  140.333333  1.857143  ...     1208.0  1211.666222   \n",
            "...        ...         ...       ...  ...        ...          ...   \n",
            "1995  0.688889  105.333333  5.857143  ...     1222.0  1889.666222   \n",
            "1996  0.088889  186.333333  3.857143  ...      915.0  1964.666222   \n",
            "1997  0.588889  107.333333  7.857143  ...      868.0  1631.666222   \n",
            "1998 -0.011111  144.333333  4.857143  ...      336.0   669.666222   \n",
            "1999  0.788889  167.333333  5.857143  ...      483.0   753.666222   \n",
            "\n",
            "              ram       sc_h  sc_w  talk_time  three_g  touch_screen  wifi  \\\n",
            "0     2548.931587   8.642857   7.0  18.888889      0.0           0.0   1.0   \n",
            "1     2630.931587  16.642857   3.0   6.888889      1.0           1.0   0.0   \n",
            "2     2602.931587  10.642857   2.0   8.888889      1.0           1.0   0.0   \n",
            "3     2768.931587  15.642857   8.0  10.888889      1.0           0.0   0.0   \n",
            "4     1410.931587   7.642857   2.0  14.888889      1.0           1.0   0.0   \n",
            "...           ...        ...   ...        ...      ...           ...   ...   \n",
            "1995   667.931587  12.642857   4.0  18.888889      1.0           1.0   0.0   \n",
            "1996  2031.931587  10.642857  10.0  15.888889      1.0           1.0   1.0   \n",
            "1997  3056.931587   8.642857   1.0   4.888889      1.0           1.0   0.0   \n",
            "1998   868.931587  17.642857  10.0  18.888889      1.0           1.0   1.0   \n",
            "1999  3918.931587  18.642857   4.0   1.888889      1.0           1.0   1.0   \n",
            "\n",
            "      price_range  \n",
            "0             1.0  \n",
            "1             2.0  \n",
            "2             2.0  \n",
            "3             2.0  \n",
            "4             1.0  \n",
            "...           ...  \n",
            "1995          0.0  \n",
            "1996          2.0  \n",
            "1997          3.0  \n",
            "1998          0.0  \n",
            "1999          3.0  \n",
            "\n",
            "[2000 rows x 21 columns]\n"
          ]
        }
      ]
    },
    {
      "cell_type": "code",
      "source": [
        "df=x-x.min()/(x.max()-x.min())\n",
        "print(df)\n",
        "\n"
      ],
      "metadata": {
        "colab": {
          "base_uri": "https://localhost:8080/"
        },
        "id": "G-2avVeRe9zh",
        "outputId": "8dd5b48d-47e5-4971-ece8-b5948e73ee40"
      },
      "execution_count": null,
      "outputs": [
        {
          "output_type": "stream",
          "name": "stdout",
          "text": [
            "      battery_power  blue  clock_speed  dual_sim    fc  four_g  int_memory  \\\n",
            "0        841.665331   0.0          2.0       0.0   1.0     0.0    6.967742   \n",
            "1       1020.665331   1.0          0.3       1.0   0.0     1.0   52.967742   \n",
            "2        562.665331   1.0          0.3       1.0   2.0     1.0   40.967742   \n",
            "3        614.665331   1.0          2.3       0.0   0.0     0.0    9.967742   \n",
            "4       1820.665331   1.0          1.0       0.0  13.0     1.0   43.967742   \n",
            "...             ...   ...          ...       ...   ...     ...         ...   \n",
            "1995     793.665331   1.0          0.3       1.0   0.0     1.0    1.967742   \n",
            "1996    1964.665331   1.0          2.4       1.0   0.0     0.0   38.967742   \n",
            "1997    1910.665331   0.0          0.7       1.0   1.0     1.0   35.967742   \n",
            "1998    1511.665331   0.0          0.7       0.0   4.0     1.0   45.967742   \n",
            "1999     509.665331   1.0          1.8       1.0   5.0     1.0   44.967742   \n",
            "\n",
            "         m_dep   mobile_wt   n_cores    pc  px_height     px_width  \\\n",
            "0     0.488889  187.333333  1.857143   2.0       20.0   755.666222   \n",
            "1     0.588889  135.333333  2.857143   6.0      905.0  1987.666222   \n",
            "2     0.788889  144.333333  4.857143   6.0     1263.0  1715.666222   \n",
            "3     0.688889  130.333333  5.857143   9.0     1216.0  1785.666222   \n",
            "4     0.488889  140.333333  1.857143  14.0     1208.0  1211.666222   \n",
            "...        ...         ...       ...   ...        ...          ...   \n",
            "1995  0.688889  105.333333  5.857143  14.0     1222.0  1889.666222   \n",
            "1996  0.088889  186.333333  3.857143   3.0      915.0  1964.666222   \n",
            "1997  0.588889  107.333333  7.857143   3.0      868.0  1631.666222   \n",
            "1998 -0.011111  144.333333  4.857143   5.0      336.0   669.666222   \n",
            "1999  0.788889  167.333333  5.857143  16.0      483.0   753.666222   \n",
            "\n",
            "              ram       sc_h  sc_w  talk_time  three_g  touch_screen  wifi  \n",
            "0     2548.931587   8.642857   7.0  18.888889      0.0           0.0   1.0  \n",
            "1     2630.931587  16.642857   3.0   6.888889      1.0           1.0   0.0  \n",
            "2     2602.931587  10.642857   2.0   8.888889      1.0           1.0   0.0  \n",
            "3     2768.931587  15.642857   8.0  10.888889      1.0           0.0   0.0  \n",
            "4     1410.931587   7.642857   2.0  14.888889      1.0           1.0   0.0  \n",
            "...           ...        ...   ...        ...      ...           ...   ...  \n",
            "1995   667.931587  12.642857   4.0  18.888889      1.0           1.0   0.0  \n",
            "1996  2031.931587  10.642857  10.0  15.888889      1.0           1.0   1.0  \n",
            "1997  3056.931587   8.642857   1.0   4.888889      1.0           1.0   0.0  \n",
            "1998   868.931587  17.642857  10.0  18.888889      1.0           1.0   1.0  \n",
            "1999  3918.931587  18.642857   4.0   1.888889      1.0           1.0   1.0  \n",
            "\n",
            "[2000 rows x 20 columns]\n"
          ]
        }
      ]
    },
    {
      "cell_type": "code",
      "source": [
        "from sklearn.model_selection import train_test_split\n",
        "x_train,x_test,y_train,y_test=train_test_split(df,y,test_size=0.2,random_state=30)\n",
        "print(x_train)\n",
        "print(x_test)\n",
        "print(y_train)\n",
        "print(y_test)"
      ],
      "metadata": {
        "colab": {
          "base_uri": "https://localhost:8080/"
        },
        "id": "AQGZz5OwhBX-",
        "outputId": "aa170aa9-484b-4cd6-e3ab-8ccbef321e52"
      },
      "execution_count": null,
      "outputs": [
        {
          "output_type": "stream",
          "name": "stdout",
          "text": [
            "1572    2.0\n",
            "1442    1.0\n",
            "1516    1.0\n",
            "259     3.0\n",
            "945     3.0\n",
            "       ... \n",
            "500     0.0\n",
            "1837    1.0\n",
            "941     0.0\n",
            "421     2.0\n",
            "1829    0.0\n",
            "Name: price_range, Length: 1600, dtype: float64\n",
            "1856    3.0\n",
            "364     0.0\n",
            "1948    1.0\n",
            "1458    1.0\n",
            "609     2.0\n",
            "       ... \n",
            "1163    2.0\n",
            "572     3.0\n",
            "1105    0.0\n",
            "1903    2.0\n",
            "481     3.0\n",
            "Name: price_range, Length: 400, dtype: float64\n",
            "1572    2\n",
            "1442    1\n",
            "1516    1\n",
            "259     3\n",
            "945     3\n",
            "       ..\n",
            "500     0\n",
            "1837    1\n",
            "941     0\n",
            "421     2\n",
            "1829    0\n",
            "Name: price_range, Length: 1600, dtype: int64\n",
            "1856    3\n",
            "364     0\n",
            "1948    1\n",
            "1458    1\n",
            "609     2\n",
            "       ..\n",
            "1163    2\n",
            "572     3\n",
            "1105    0\n",
            "1903    2\n",
            "481     3\n",
            "Name: price_range, Length: 400, dtype: int64\n"
          ]
        }
      ]
    },
    {
      "cell_type": "markdown",
      "source": [
        "Question 2:\n",
        "Download the dataset from the above link.\n",
        "\n",
        "1.Read the data with pandas and describe the data\n",
        "2.Find data type and shape of each column\n",
        "3.Find the target and features\n",
        "4.Find the null values (if yes fill the null values with ‘0’ or mean of that column)\n",
        "5.Normalize all the features\n",
        "6.Split the data into train and test."
      ],
      "metadata": {
        "id": "A0PwJCokkQWw"
      }
    },
    {
      "cell_type": "code",
      "source": [
        "import numpy as np\n",
        "import pandas as pd\n",
        "import matplotlib.pyplot as plt\n",
        "d=pd.read_csv('/content/housing.csv')\n",
        "print(d)"
      ],
      "metadata": {
        "colab": {
          "base_uri": "https://localhost:8080/"
        },
        "outputId": "a9626494-ff69-4c49-fcd9-3899d6e5a8bc",
        "id": "Jl7RcK6uny4M"
      },
      "execution_count": null,
      "outputs": [
        {
          "output_type": "stream",
          "name": "stdout",
          "text": [
            "       longitude  latitude  housing_median_age  total_rooms  total_bedrooms  \\\n",
            "0        -122.23     37.88                41.0        880.0           129.0   \n",
            "1        -122.22     37.86                21.0       7099.0          1106.0   \n",
            "2        -122.24     37.85                52.0       1467.0           190.0   \n",
            "3        -122.25     37.85                52.0       1274.0           235.0   \n",
            "4        -122.25     37.85                52.0       1627.0           280.0   \n",
            "...          ...       ...                 ...          ...             ...   \n",
            "20635    -121.09     39.48                25.0       1665.0           374.0   \n",
            "20636    -121.21     39.49                18.0        697.0           150.0   \n",
            "20637    -121.22     39.43                17.0       2254.0           485.0   \n",
            "20638    -121.32     39.43                18.0       1860.0           409.0   \n",
            "20639    -121.24     39.37                16.0       2785.0           616.0   \n",
            "\n",
            "       population  households  median_income  median_house_value  \\\n",
            "0           322.0       126.0         8.3252            452600.0   \n",
            "1          2401.0      1138.0         8.3014            358500.0   \n",
            "2           496.0       177.0         7.2574            352100.0   \n",
            "3           558.0       219.0         5.6431            341300.0   \n",
            "4           565.0       259.0         3.8462            342200.0   \n",
            "...           ...         ...            ...                 ...   \n",
            "20635       845.0       330.0         1.5603             78100.0   \n",
            "20636       356.0       114.0         2.5568             77100.0   \n",
            "20637      1007.0       433.0         1.7000             92300.0   \n",
            "20638       741.0       349.0         1.8672             84700.0   \n",
            "20639      1387.0       530.0         2.3886             89400.0   \n",
            "\n",
            "      ocean_proximity  \n",
            "0            NEAR BAY  \n",
            "1            NEAR BAY  \n",
            "2            NEAR BAY  \n",
            "3            NEAR BAY  \n",
            "4            NEAR BAY  \n",
            "...               ...  \n",
            "20635          INLAND  \n",
            "20636          INLAND  \n",
            "20637          INLAND  \n",
            "20638          INLAND  \n",
            "20639          INLAND  \n",
            "\n",
            "[20640 rows x 10 columns]\n"
          ]
        }
      ]
    },
    {
      "cell_type": "code",
      "source": [
        "y=d['median_house_value']\n",
        "print(y)"
      ],
      "metadata": {
        "colab": {
          "base_uri": "https://localhost:8080/"
        },
        "id": "wrcwsJjToEUk",
        "outputId": "0ce50846-dec7-4c2e-8fe5-2e2edac5d78c"
      },
      "execution_count": null,
      "outputs": [
        {
          "output_type": "stream",
          "name": "stdout",
          "text": [
            "0        452600.0\n",
            "1        358500.0\n",
            "2        352100.0\n",
            "3        341300.0\n",
            "4        342200.0\n",
            "           ...   \n",
            "20635     78100.0\n",
            "20636     77100.0\n",
            "20637     92300.0\n",
            "20638     84700.0\n",
            "20639     89400.0\n",
            "Name: median_house_value, Length: 20640, dtype: float64\n"
          ]
        }
      ]
    },
    {
      "cell_type": "code",
      "source": [
        "x=d.drop('median_house_value',axis=1)\n",
        "x=x.drop('ocean_proximity',axis=1)\n",
        "print(x)"
      ],
      "metadata": {
        "colab": {
          "base_uri": "https://localhost:8080/"
        },
        "id": "U1_cn99IoJZg",
        "outputId": "83148c61-71da-41cb-ebb0-502ec87b2ef5"
      },
      "execution_count": null,
      "outputs": [
        {
          "output_type": "stream",
          "name": "stdout",
          "text": [
            "       longitude  latitude  housing_median_age  total_rooms  total_bedrooms  \\\n",
            "0        -122.23     37.88                41.0        880.0           129.0   \n",
            "1        -122.22     37.86                21.0       7099.0          1106.0   \n",
            "2        -122.24     37.85                52.0       1467.0           190.0   \n",
            "3        -122.25     37.85                52.0       1274.0           235.0   \n",
            "4        -122.25     37.85                52.0       1627.0           280.0   \n",
            "...          ...       ...                 ...          ...             ...   \n",
            "20635    -121.09     39.48                25.0       1665.0           374.0   \n",
            "20636    -121.21     39.49                18.0        697.0           150.0   \n",
            "20637    -121.22     39.43                17.0       2254.0           485.0   \n",
            "20638    -121.32     39.43                18.0       1860.0           409.0   \n",
            "20639    -121.24     39.37                16.0       2785.0           616.0   \n",
            "\n",
            "       population  households  median_income  \n",
            "0           322.0       126.0         8.3252  \n",
            "1          2401.0      1138.0         8.3014  \n",
            "2           496.0       177.0         7.2574  \n",
            "3           558.0       219.0         5.6431  \n",
            "4           565.0       259.0         3.8462  \n",
            "...           ...         ...            ...  \n",
            "20635       845.0       330.0         1.5603  \n",
            "20636       356.0       114.0         2.5568  \n",
            "20637      1007.0       433.0         1.7000  \n",
            "20638       741.0       349.0         1.8672  \n",
            "20639      1387.0       530.0         2.3886  \n",
            "\n",
            "[20640 rows x 8 columns]\n"
          ]
        }
      ]
    },
    {
      "cell_type": "code",
      "source": [
        "x.dtypes\n"
      ],
      "metadata": {
        "colab": {
          "base_uri": "https://localhost:8080/",
          "height": 335
        },
        "id": "-nWrH_XNo50R",
        "outputId": "5427b952-64ed-4921-8914-977a11217f5e"
      },
      "execution_count": null,
      "outputs": [
        {
          "output_type": "execute_result",
          "data": {
            "text/plain": [
              "longitude             float64\n",
              "latitude              float64\n",
              "housing_median_age    float64\n",
              "total_rooms           float64\n",
              "total_bedrooms        float64\n",
              "population            float64\n",
              "households            float64\n",
              "median_income         float64\n",
              "dtype: object"
            ],
            "text/html": [
              "<div>\n",
              "<style scoped>\n",
              "    .dataframe tbody tr th:only-of-type {\n",
              "        vertical-align: middle;\n",
              "    }\n",
              "\n",
              "    .dataframe tbody tr th {\n",
              "        vertical-align: top;\n",
              "    }\n",
              "\n",
              "    .dataframe thead th {\n",
              "        text-align: right;\n",
              "    }\n",
              "</style>\n",
              "<table border=\"1\" class=\"dataframe\">\n",
              "  <thead>\n",
              "    <tr style=\"text-align: right;\">\n",
              "      <th></th>\n",
              "      <th>0</th>\n",
              "    </tr>\n",
              "  </thead>\n",
              "  <tbody>\n",
              "    <tr>\n",
              "      <th>longitude</th>\n",
              "      <td>float64</td>\n",
              "    </tr>\n",
              "    <tr>\n",
              "      <th>latitude</th>\n",
              "      <td>float64</td>\n",
              "    </tr>\n",
              "    <tr>\n",
              "      <th>housing_median_age</th>\n",
              "      <td>float64</td>\n",
              "    </tr>\n",
              "    <tr>\n",
              "      <th>total_rooms</th>\n",
              "      <td>float64</td>\n",
              "    </tr>\n",
              "    <tr>\n",
              "      <th>total_bedrooms</th>\n",
              "      <td>float64</td>\n",
              "    </tr>\n",
              "    <tr>\n",
              "      <th>population</th>\n",
              "      <td>float64</td>\n",
              "    </tr>\n",
              "    <tr>\n",
              "      <th>households</th>\n",
              "      <td>float64</td>\n",
              "    </tr>\n",
              "    <tr>\n",
              "      <th>median_income</th>\n",
              "      <td>float64</td>\n",
              "    </tr>\n",
              "  </tbody>\n",
              "</table>\n",
              "</div><br><label><b>dtype:</b> object</label>"
            ]
          },
          "metadata": {},
          "execution_count": 26
        }
      ]
    },
    {
      "cell_type": "code",
      "source": [
        "y.dtypes"
      ],
      "metadata": {
        "colab": {
          "base_uri": "https://localhost:8080/"
        },
        "id": "1pmprOHNpCUt",
        "outputId": "dcc65c64-146a-4e80-939d-e4810746d2b8"
      },
      "execution_count": null,
      "outputs": [
        {
          "output_type": "execute_result",
          "data": {
            "text/plain": [
              "dtype('float64')"
            ]
          },
          "metadata": {},
          "execution_count": 27
        }
      ]
    },
    {
      "cell_type": "code",
      "source": [
        "d.shape[0]"
      ],
      "metadata": {
        "colab": {
          "base_uri": "https://localhost:8080/"
        },
        "id": "zbBGrFd0dLrt",
        "outputId": "f345567d-d84c-4392-a78d-f6ff1ac794a3"
      },
      "execution_count": null,
      "outputs": [
        {
          "output_type": "execute_result",
          "data": {
            "text/plain": [
              "20640"
            ]
          },
          "metadata": {},
          "execution_count": 29
        }
      ]
    },
    {
      "cell_type": "code",
      "source": [
        "xisnull=x.isnull()\n",
        "print(x)"
      ],
      "metadata": {
        "colab": {
          "base_uri": "https://localhost:8080/"
        },
        "id": "LzjNEz7WpLL_",
        "outputId": "f6240000-3cea-4479-b6b2-6b698cc8e726"
      },
      "execution_count": null,
      "outputs": [
        {
          "output_type": "stream",
          "name": "stdout",
          "text": [
            "       longitude  latitude  housing_median_age  total_rooms  total_bedrooms  \\\n",
            "0        -122.23     37.88                41.0        880.0           129.0   \n",
            "1        -122.22     37.86                21.0       7099.0          1106.0   \n",
            "2        -122.24     37.85                52.0       1467.0           190.0   \n",
            "3        -122.25     37.85                52.0       1274.0           235.0   \n",
            "4        -122.25     37.85                52.0       1627.0           280.0   \n",
            "...          ...       ...                 ...          ...             ...   \n",
            "20635    -121.09     39.48                25.0       1665.0           374.0   \n",
            "20636    -121.21     39.49                18.0        697.0           150.0   \n",
            "20637    -121.22     39.43                17.0       2254.0           485.0   \n",
            "20638    -121.32     39.43                18.0       1860.0           409.0   \n",
            "20639    -121.24     39.37                16.0       2785.0           616.0   \n",
            "\n",
            "       population  households  median_income  \n",
            "0           322.0       126.0         8.3252  \n",
            "1          2401.0      1138.0         8.3014  \n",
            "2           496.0       177.0         7.2574  \n",
            "3           558.0       219.0         5.6431  \n",
            "4           565.0       259.0         3.8462  \n",
            "...           ...         ...            ...  \n",
            "20635       845.0       330.0         1.5603  \n",
            "20636       356.0       114.0         2.5568  \n",
            "20637      1007.0       433.0         1.7000  \n",
            "20638       741.0       349.0         1.8672  \n",
            "20639      1387.0       530.0         2.3886  \n",
            "\n",
            "[20640 rows x 8 columns]\n"
          ]
        }
      ]
    },
    {
      "cell_type": "code",
      "source": [
        "yisnull=y.isnull()\n",
        "print(y)\n"
      ],
      "metadata": {
        "colab": {
          "base_uri": "https://localhost:8080/"
        },
        "id": "_0HpFCvOpYOh",
        "outputId": "d8680d0d-ad55-4371-916b-9293f7a8a134"
      },
      "execution_count": null,
      "outputs": [
        {
          "output_type": "stream",
          "name": "stdout",
          "text": [
            "0        452600.0\n",
            "1        358500.0\n",
            "2        352100.0\n",
            "3        341300.0\n",
            "4        342200.0\n",
            "           ...   \n",
            "20635     78100.0\n",
            "20636     77100.0\n",
            "20637     92300.0\n",
            "20638     84700.0\n",
            "20639     89400.0\n",
            "Name: median_house_value, Length: 20640, dtype: float64\n"
          ]
        }
      ]
    },
    {
      "cell_type": "code",
      "source": [
        "df=x-x.min()/(x.max()-x.min())\n",
        "print(df)"
      ],
      "metadata": {
        "colab": {
          "base_uri": "https://localhost:8080/"
        },
        "id": "X3YGLFGnpomI",
        "outputId": "1be78229-43e8-4f2c-b51b-4cb086e0b2b1"
      },
      "execution_count": null,
      "outputs": [
        {
          "output_type": "stream",
          "name": "stdout",
          "text": [
            "        longitude   latitude  housing_median_age  total_rooms  total_bedrooms  \\\n",
            "0     -109.844542  34.421977           40.980392   879.999949      128.999845   \n",
            "1     -109.834542  34.401977           20.980392  7098.999949     1105.999845   \n",
            "2     -109.854542  34.391977           51.980392  1466.999949      189.999845   \n",
            "3     -109.864542  34.391977           51.980392  1273.999949      234.999845   \n",
            "4     -109.864542  34.391977           51.980392  1626.999949      279.999845   \n",
            "...           ...        ...                 ...          ...             ...   \n",
            "20635 -108.704542  36.021977           24.980392  1664.999949      373.999845   \n",
            "20636 -108.824542  36.031977           17.980392   696.999949      149.999845   \n",
            "20637 -108.834542  35.971977           16.980392  2253.999949      484.999845   \n",
            "20638 -108.934542  35.971977           17.980392  1859.999949      408.999845   \n",
            "20639 -108.854542  35.911977           15.980392  2784.999949      615.999845   \n",
            "\n",
            "        population   households  median_income  \n",
            "0       321.999916   125.999836       8.290725  \n",
            "1      2400.999916  1137.999836       8.266925  \n",
            "2       495.999916   176.999836       7.222925  \n",
            "3       557.999916   218.999836       5.608625  \n",
            "4       564.999916   258.999836       3.811725  \n",
            "...            ...          ...            ...  \n",
            "20635   844.999916   329.999836       1.525825  \n",
            "20636   355.999916   113.999836       2.522325  \n",
            "20637  1006.999916   432.999836       1.665525  \n",
            "20638   740.999916   348.999836       1.832725  \n",
            "20639  1386.999916   529.999836       2.354125  \n",
            "\n",
            "[20640 rows x 8 columns]\n"
          ]
        }
      ]
    },
    {
      "cell_type": "code",
      "source": [
        "from sklearn.model_selection import train_test_split\n",
        "x_train,x_test,y_train,y_test=train_test_split(df,y,test_size=0.2,random_state=30)\n",
        "print(x_train)\n",
        "print(x_test)\n",
        "print(y_train)\n",
        "print(y_test)"
      ],
      "metadata": {
        "colab": {
          "base_uri": "https://localhost:8080/"
        },
        "outputId": "cc86cd8c-deac-4c72-95f4-2e95d367e7c7",
        "id": "6m113k57dERs"
      },
      "execution_count": null,
      "outputs": [
        {
          "output_type": "stream",
          "name": "stdout",
          "text": [
            "        longitude   latitude  housing_median_age   total_rooms  \\\n",
            "7186  -105.794542  30.571977           38.980392    608.999949   \n",
            "7686  -105.714542  30.471977           34.980392   1621.999949   \n",
            "6332  -105.564542  30.531977           23.980392   1218.999949   \n",
            "14192 -104.684542  29.231977           19.980392   2191.999949   \n",
            "6611  -105.724542  30.721977           51.980392   3570.999949   \n",
            "...           ...        ...                 ...           ...   \n",
            "500   -109.884542  34.391977           51.980392   1973.999949   \n",
            "12077 -105.254542  30.411977            1.980392  17469.999949   \n",
            "15277 -104.954542  29.601977           16.980392   2717.999949   \n",
            "4517  -105.814542  30.581977           43.980392   1398.999949   \n",
            "5925  -105.414542  30.691977           13.980392   7875.999949   \n",
            "\n",
            "       total_bedrooms   population   households  median_income  \n",
            "7186       144.999845   689.999916   133.999836       2.882225  \n",
            "7686       301.999845   844.999916   283.999836       4.542425  \n",
            "6332       176.999845   609.999916   184.999836       6.763325  \n",
            "14192      405.999845  1765.999916   392.999836       4.057625  \n",
            "6611       509.999845  1433.999916   489.999836       5.866425  \n",
            "...               ...          ...          ...            ...  \n",
            "500        425.999845   874.999916   362.999836       1.547225  \n",
            "12077     2726.999845  5963.999916  1984.999836       6.196325  \n",
            "15277      517.999845   814.999916   402.999836       4.283725  \n",
            "4517       385.999845  1418.999916   372.999836       1.787925  \n",
            "5925      1252.999845  3698.999916  1161.999836       5.507825  \n",
            "\n",
            "[16512 rows x 8 columns]\n",
            "        longitude   latitude  housing_median_age  total_rooms  total_bedrooms  \\\n",
            "19449 -108.644542  34.221977           19.980392  3203.999949      624.999845   \n",
            "10452 -105.274542  30.001977           25.980392  2072.999949      369.999845   \n",
            "18982 -109.624542  34.801977           11.980392  4131.999949      709.999845   \n",
            "8187  -105.724542  30.321977           15.980392  3984.999949      566.999845   \n",
            "15759 -110.054542  34.311977           51.980392  2993.999949      735.999845   \n",
            "...           ...        ...                 ...          ...             ...   \n",
            "12704 -109.024542  35.121977           17.980392  6954.999949     1881.999845   \n",
            "18742 -109.954542  37.111977           25.980392  2186.999949      471.999845   \n",
            "19142 -110.304542  34.861977           14.980392  2535.999949      413.999845   \n",
            "1027  -108.164542  35.001977           15.980392  1442.999949      248.999845   \n",
            "17830 -109.464542  33.951977           24.980392  1836.999949      277.999845   \n",
            "\n",
            "        population   households  median_income  \n",
            "19449  2015.999916   604.999836       2.622225  \n",
            "10452   951.999916   339.999836       5.053225  \n",
            "18982  2086.999916   632.999836       4.564225  \n",
            "8187   1326.999916   563.999836       7.942225  \n",
            "15759  1427.999916   699.999836       3.042125  \n",
            "...            ...          ...            ...  \n",
            "12704  2802.999916  1739.999836       3.054525  \n",
            "18742  1338.999916   462.999836       2.005025  \n",
            "19142  1399.999916   425.999836       5.626825  \n",
            "1027    434.999916   180.999836       3.168625  \n",
            "17830  1005.999916   270.999836       6.649725  \n",
            "\n",
            "[4128 rows x 8 columns]\n",
            "7186     145800.0\n",
            "7686     186100.0\n",
            "6332     325000.0\n",
            "14192    135000.0\n",
            "6611     376000.0\n",
            "           ...   \n",
            "500      153600.0\n",
            "12077    257900.0\n",
            "15277    357100.0\n",
            "4517     143800.0\n",
            "5925     248700.0\n",
            "Name: median_house_value, Length: 16512, dtype: float64\n",
            "19449    110400.0\n",
            "10452    288100.0\n",
            "18982    139700.0\n",
            "8187     500001.0\n",
            "15759    438900.0\n",
            "           ...   \n",
            "12704    141400.0\n",
            "18742     67900.0\n",
            "19142    172400.0\n",
            "1027     129200.0\n",
            "17830    265300.0\n",
            "Name: median_house_value, Length: 4128, dtype: float64\n"
          ]
        }
      ]
    }
  ]
}